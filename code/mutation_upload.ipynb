{
 "cells": [
  {
   "cell_type": "markdown",
   "metadata": {},
   "source": [
    "## Upload mutation_information output files to mongoDB"
   ]
  },
  {
   "cell_type": "code",
   "execution_count": 19,
   "metadata": {},
   "outputs": [],
   "source": [
    "file_list = ['../output/mutation_information_'+str(i)+'.json' for i in [9,10,11,12,13,14,15,16]]"
   ]
  },
  {
   "cell_type": "code",
   "execution_count": 20,
   "metadata": {},
   "outputs": [],
   "source": [
    "upload_file_name_list = ['Mut_inf_'+str(i) for i in [9,10,11,12,13,14,15,16]]"
   ]
  },
  {
   "cell_type": "code",
   "execution_count": 21,
   "metadata": {},
   "outputs": [
    {
     "data": {
      "text/plain": [
       "['Mut_inf_9',\n",
       " 'Mut_inf_10',\n",
       " 'Mut_inf_11',\n",
       " 'Mut_inf_12',\n",
       " 'Mut_inf_13',\n",
       " 'Mut_inf_14',\n",
       " 'Mut_inf_15',\n",
       " 'Mut_inf_16']"
      ]
     },
     "execution_count": 21,
     "metadata": {},
     "output_type": "execute_result"
    }
   ],
   "source": [
    "upload_file_name_list"
   ]
  },
  {
   "cell_type": "code",
   "execution_count": null,
   "metadata": {},
   "outputs": [],
   "source": []
  },
  {
   "cell_type": "code",
   "execution_count": null,
   "metadata": {},
   "outputs": [],
   "source": [
    "import json \n",
    "from pymongo import MongoClient  \n",
    "for index in range(len(file_list)):  \n",
    "    with open(file_list[index], 'r') as outfile:\n",
    "        data = json.load(outfile)\n",
    "    # Making Connection \n",
    "    myclient = MongoClient(\"mongodb://localhost:27017/\")  \n",
    "\n",
    "\n",
    "    # database  \n",
    "    db = myclient[\"Mut_info\"]\n",
    "\n",
    "    # Created or Switched to collection  \n",
    "    # names: GeeksForGeeks \n",
    "    Collection = db[upload_file_name_list[index]] \n",
    "\n",
    "    # Loading or Opening the json file \n",
    "    # with open('data.json') as file: \n",
    "    #     file_data = json.load(file) \n",
    "\n",
    "\n",
    "    # Inserting the loaded data in the Collection \n",
    "    # if JSON contains data more than one entry \n",
    "    # insert_many is used else inser_one is used \n",
    "    if isinstance(data, list): \n",
    "        Collection.insert_many(data)   \n",
    "    else: \n",
    "        Collection.insert_one(data) "
   ]
  },
  {
   "cell_type": "code",
   "execution_count": null,
   "metadata": {},
   "outputs": [],
   "source": []
  }
 ],
 "metadata": {
  "kernelspec": {
   "display_name": "Python 3",
   "language": "python",
   "name": "python3"
  },
  "language_info": {
   "codemirror_mode": {
    "name": "ipython",
    "version": 3
   },
   "file_extension": ".py",
   "mimetype": "text/x-python",
   "name": "python",
   "nbconvert_exporter": "python",
   "pygments_lexer": "ipython3",
   "version": "3.7.7"
  }
 },
 "nbformat": 4,
 "nbformat_minor": 4
}
