{
 "cells": [
  {
   "cell_type": "markdown",
   "metadata": {},
   "source": [
    "## Merge mutation_information output files and upload it to mongoDB"
   ]
  },
  {
   "cell_type": "code",
   "execution_count": 2,
   "metadata": {},
   "outputs": [],
   "source": [
    "file_list = ['../output/mutation_information_'+str(i)+'.json' for i in [1,2,3,4,5,6,8,9,10,11,12,13,14,15,16]]"
   ]
  },
  {
   "cell_type": "code",
   "execution_count": 3,
   "metadata": {},
   "outputs": [],
   "source": [
    "upload_file_name_list = ['Mut_inf_'+str(i) for i in [1,2,3,4,5,6,8,9,10,11,12,13,14,15,16]]"
   ]
  },
  {
   "cell_type": "code",
   "execution_count": 8,
   "metadata": {},
   "outputs": [],
   "source": [
    "import json\n",
    "data = []\n",
    "for index in range(len(file_list)):  \n",
    "    with open(file_list[index], 'r') as outfile:\n",
    "        data += json.load(outfile)"
   ]
  },
  {
   "cell_type": "code",
   "execution_count": 9,
   "metadata": {},
   "outputs": [],
   "source": [
    "import json\n",
    "with open('../output/mutation_information_merged.json', 'w') as outfile:\n",
    "    json.dump(data, outfile)"
   ]
  },
  {
   "cell_type": "code",
   "execution_count": 10,
   "metadata": {},
   "outputs": [],
   "source": [
    "import json \n",
    "from pymongo import MongoClient  \n",
    "\n",
    "# Making Connection \n",
    "myclient = MongoClient(\"mongodb://localhost:27017/\")  \n",
    "\n",
    "\n",
    "# database  \n",
    "db = myclient[\"Mut_info\"]\n",
    "\n",
    "# Created or Switched to collection  \n",
    "# names: GeeksForGeeks \n",
    "Collection = db[\"Mutation_Information_Merged\"] \n",
    "\n",
    "# Loading or Opening the json file \n",
    "# with open('data.json') as file: \n",
    "#     file_data = json.load(file) \n",
    "\n",
    "\n",
    "# Inserting the loaded data in the Collection \n",
    "# if JSON contains data more than one entry \n",
    "# insert_many is used else inser_one is used \n",
    "if isinstance(data, list): \n",
    "    Collection.insert_many(data)   \n",
    "else: \n",
    "    Collection.insert_one(data) "
   ]
  },
  {
   "cell_type": "code",
   "execution_count": null,
   "metadata": {},
   "outputs": [],
   "source": []
  }
 ],
 "metadata": {
  "kernelspec": {
   "display_name": "Python 3",
   "language": "python",
   "name": "python3"
  },
  "language_info": {
   "codemirror_mode": {
    "name": "ipython",
    "version": 3
   },
   "file_extension": ".py",
   "mimetype": "text/x-python",
   "name": "python",
   "nbconvert_exporter": "python",
   "pygments_lexer": "ipython3",
   "version": "3.7.7"
  }
 },
 "nbformat": 4,
 "nbformat_minor": 4
}
