{
 "cells": [
  {
   "cell_type": "code",
   "execution_count": 3,
   "metadata": {},
   "outputs": [],
   "source": [
    "import pandas as pd\n",
    "import sqlalchemy\n",
    "# file_address_list = ['../output/patient_to_mutation_'+i+'.csv' for i in [15,16]]\n",
    "# file_name_list = ['patient_to_mutation_'+i+'.csv' for i in [15,16]]\n",
    "for i in [15,16]:\n",
    "    df = pd.read_csv('../output/patient_to_mutation_'+str(i)+'.csv') \n",
    "    # Import dataframe into MySQL\n",
    "    \n",
    "    database_username = 'root'\n",
    "    database_password = 'Kjy11422@'\n",
    "    database_ip       = '127.0.0.1'\n",
    "    database_name     = 'Genomics'\n",
    "    database_connection = sqlalchemy.create_engine('mysql+mysqlconnector://{0}:{1}@{2}/{3}'.\n",
    "                                                   format(database_username, database_password, \n",
    "                                                          database_ip, database_name))\n",
    "    df.to_sql(con=database_connection, name='Genomics_'+str(i), if_exists='replace')"
   ]
  },
  {
   "cell_type": "code",
   "execution_count": null,
   "metadata": {},
   "outputs": [],
   "source": []
  }
 ],
 "metadata": {
  "kernelspec": {
   "display_name": "Python 3",
   "language": "python",
   "name": "python3"
  },
  "language_info": {
   "codemirror_mode": {
    "name": "ipython",
    "version": 3
   },
   "file_extension": ".py",
   "mimetype": "text/x-python",
   "name": "python",
   "nbconvert_exporter": "python",
   "pygments_lexer": "ipython3",
   "version": "3.7.7"
  }
 },
 "nbformat": 4,
 "nbformat_minor": 4
}
